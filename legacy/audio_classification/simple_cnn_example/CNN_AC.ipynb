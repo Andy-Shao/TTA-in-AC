{
 "cells": [
  {
   "cell_type": "markdown",
   "metadata": {},
   "source": [
    "# Audio Deep Learning Made Simple: Sound Classification, Step-by-Step\n",
    "## Dataset Usage Testing"
   ]
  },
  {
   "cell_type": "code",
   "execution_count": 5,
   "metadata": {},
   "outputs": [
    {
     "name": "stdout",
     "output_type": "stream",
     "text": [
      "/root/dataset\n"
     ]
    }
   ],
   "source": [
    "import pandas as pd\n",
    "from pathlib import Path \n",
    "\n",
    "datasource_path = Path.home()/'dataset'\n",
    "print(datasource_path)\n",
    "\n",
    "# read the metadata file\n",
    "metadata_file_path = datasource_path"
   ]
  }
 ],
 "metadata": {
  "kernelspec": {
   "display_name": "base",
   "language": "python",
   "name": "python3"
  },
  "language_info": {
   "codemirror_mode": {
    "name": "ipython",
    "version": 3
   },
   "file_extension": ".py",
   "mimetype": "text/x-python",
   "name": "python",
   "nbconvert_exporter": "python",
   "pygments_lexer": "ipython3",
   "version": "3.9.7"
  }
 },
 "nbformat": 4,
 "nbformat_minor": 2
}
