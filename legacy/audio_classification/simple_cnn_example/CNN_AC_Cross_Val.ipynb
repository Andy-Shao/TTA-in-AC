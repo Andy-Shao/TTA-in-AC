{
 "cells": [
  {
   "cell_type": "markdown",
   "metadata": {},
   "source": [
    "# Audio Classification with CNN under Cross-Validation Experiment\n",
    "Try to analysis the data with,\n",
    "+ accuracy\n",
    "+ precision\n",
    "+ recall\n",
    "  \n",
    "both of training step and validation stage.\n",
    "Meanwhile, try to use the plot-box to demonstrates the data."
   ]
  },
  {
   "cell_type": "code",
   "execution_count": null,
   "metadata": {},
   "outputs": [],
   "source": []
  }
 ],
 "metadata": {
  "language_info": {
   "name": "python"
  }
 },
 "nbformat": 4,
 "nbformat_minor": 2
}
