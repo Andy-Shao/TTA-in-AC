{
 "cells": [
  {
   "cell_type": "markdown",
   "metadata": {},
   "source": [
    "# Speech Commands Dataset"
   ]
  },
  {
   "cell_type": "code",
   "execution_count": 7,
   "metadata": {},
   "outputs": [
    {
     "data": {
      "text/plain": [
       "(torch.Size([1, 16000]), 16000)"
      ]
     },
     "execution_count": 7,
     "metadata": {},
     "output_type": "execute_result"
    }
   ],
   "source": [
    "import os\n",
    "\n",
    "import torchaudio\n",
    "\n",
    "dataset_path = '/Users/andyshao/Desktop/tmp'\n",
    "audio_file_path = os.path.join(dataset_path, '00176480_nohash_0.wav')\n",
    "\n",
    "wavform, sample_rate = torchaudio.load(audio_file_path)\n",
    "wavform.shape, sample_rate"
   ]
  },
  {
   "cell_type": "code",
   "execution_count": 8,
   "metadata": {},
   "outputs": [
    {
     "data": {
      "text/plain": [
       "(torch.Size([1, 960000]), 16000)"
      ]
     },
     "execution_count": 8,
     "metadata": {},
     "output_type": "execute_result"
    }
   ],
   "source": [
    "noise_path = os.path.join(dataset_path, '_background_noise_')\n",
    "pink_noise_path = os.path.join(noise_path, 'pink_noise.wav')\n",
    "\n",
    "pink_wavform, pink_sample_rate = torchaudio.load(pink_noise_path)\n",
    "pink_wavform.shape, pink_sample_rate"
   ]
  },
  {
   "cell_type": "code",
   "execution_count": 9,
   "metadata": {},
   "outputs": [
    {
     "data": {
      "text/plain": [
       "torch.Size([1, 16000])"
      ]
     },
     "execution_count": 9,
     "metadata": {},
     "output_type": "execute_result"
    }
   ],
   "source": [
    "import numpy\n",
    "\n",
    "start_point = numpy.random.randint(low=0, high=960000-16000)\n",
    "\n",
    "rand_cut_pink_wavform = pink_wavform[:, start_point:start_point+16000]\n",
    "rand_cut_pink_wavform.shape"
   ]
  },
  {
   "cell_type": "code",
   "execution_count": 26,
   "metadata": {},
   "outputs": [],
   "source": [
    "import torchaudio.functional as F\n",
    "import torch\n",
    "\n",
    "noise_audios = F.add_noise(waveform=wavform, noise=rand_cut_pink_wavform, snr=torch.tensor([10, 1, .5]))\n",
    "torchaudio.save(uri=os.path.join(dataset_path, 'low_noise.wav'), src=noise_audios[0:1], sample_rate=sample_rate)\n",
    "torchaudio.save(uri=os.path.join(dataset_path, 'high_noise.wav'), src=noise_audios[1:2], sample_rate=sample_rate)\n",
    "torchaudio.save(uri=os.path.join(dataset_path, 'ex_high_noise.wav'), src=noise_audios[2:3], sample_rate=sample_rate)"
   ]
  }
 ],
 "metadata": {
  "kernelspec": {
   "display_name": "my-audio",
   "language": "python",
   "name": "python3"
  },
  "language_info": {
   "codemirror_mode": {
    "name": "ipython",
    "version": 3
   },
   "file_extension": ".py",
   "mimetype": "text/x-python",
   "name": "python",
   "nbconvert_exporter": "python",
   "pygments_lexer": "ipython3",
   "version": "3.9.19"
  }
 },
 "nbformat": 4,
 "nbformat_minor": 2
}
