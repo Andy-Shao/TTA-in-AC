{
 "cells": [
  {
   "cell_type": "code",
   "execution_count": 1,
   "metadata": {},
   "outputs": [
    {
     "data": {
      "text/plain": [
       "(torch.Size([1, 35877]), 48000)"
      ]
     },
     "execution_count": 1,
     "metadata": {},
     "output_type": "execute_result"
    }
   ],
   "source": [
    "import torch \n",
    "import torchaudio\n",
    "\n",
    "audio_path = '/Users/andyshao/var/AudioMNIST/data/01/0_01_0.wav'\n",
    "waveform, sample_rate = torchaudio.load(audio_path)\n",
    "waveform.shape, sample_rate"
   ]
  },
  {
   "cell_type": "code",
   "execution_count": 18,
   "metadata": {},
   "outputs": [
    {
     "data": {
      "text/plain": [
       "({48000}, {1}, 15641, 14073, 47998)"
      ]
     },
     "execution_count": 18,
     "metadata": {},
     "output_type": "execute_result"
    }
   ],
   "source": [
    "import os\n",
    "\n",
    "sample_rates = set()\n",
    "shape1 = set()\n",
    "shape2 = set()\n",
    "audio_base_path = '/Users/andyshao/var/AudioMNIST/data'\n",
    "for dir in os.listdir(audio_base_path):\n",
    "    dir_path = audio_base_path + '/' + dir\n",
    "    if os.path.isdir(dir_path):\n",
    "        for f in os.listdir(dir_path):\n",
    "            audio_file_path = dir_path + '/' + f\n",
    "            if os.path.isfile(audio_file_path) and f.endswith('wav'):\n",
    "                waveform, sample_rate = torchaudio.load(audio_file_path)\n",
    "                sample_rates.add(int(sample_rate))\n",
    "                shape1.add(int(waveform.size(0)))\n",
    "                shape2.add(int(waveform.size(1)))\n",
    "sample_rates, shape1, len(shape2), min(shape2), max(shape2)"
   ]
  }
 ],
 "metadata": {
  "kernelspec": {
   "display_name": "my-audio",
   "language": "python",
   "name": "python3"
  },
  "language_info": {
   "codemirror_mode": {
    "name": "ipython",
    "version": 3
   },
   "file_extension": ".py",
   "mimetype": "text/x-python",
   "name": "python",
   "nbconvert_exporter": "python",
   "pygments_lexer": "ipython3",
   "version": "3.9.19"
  }
 },
 "nbformat": 4,
 "nbformat_minor": 2
}
