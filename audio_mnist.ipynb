{
 "cells": [
  {
   "cell_type": "code",
   "execution_count": 5,
   "metadata": {},
   "outputs": [
    {
     "data": {
      "text/plain": [
       "(torch.Size([1, 35877]), 48000)"
      ]
     },
     "execution_count": 5,
     "metadata": {},
     "output_type": "execute_result"
    }
   ],
   "source": [
    "import torchaudio\n",
    "\n",
    "audio_base_path = '/Users/andyshao/var/AudioMNIST/data'\n",
    "audio_path = audio_base_path + '/01/0_01_0.wav'\n",
    "waveform, sample_rate = torchaudio.load(audio_path)\n",
    "waveform.shape, sample_rate"
   ]
  },
  {
   "cell_type": "code",
   "execution_count": 6,
   "metadata": {},
   "outputs": [
    {
     "data": {
      "text/plain": [
       "{'accent': 'german',\n",
       " 'age': 30,\n",
       " 'gender': 'male',\n",
       " 'native speaker': 'no',\n",
       " 'origin': 'Europe, Germany, Wuerzburg',\n",
       " 'recordingdate': '17-06-22-11-04-28',\n",
       " 'recordingroom': 'Kino'}"
      ]
     },
     "execution_count": 6,
     "metadata": {},
     "output_type": "execute_result"
    }
   ],
   "source": [
    "import json \n",
    "\n",
    "meta_file_path = audio_base_path + '/audioMNIST_meta.txt'\n",
    "with open(meta_file_path) as f:\n",
    "    data = json.load(f)\n",
    "data['01']"
   ]
  },
  {
   "cell_type": "code",
   "execution_count": 7,
   "metadata": {},
   "outputs": [
    {
     "data": {
      "text/plain": [
       "(20000, 10000)"
      ]
     },
     "execution_count": 7,
     "metadata": {},
     "output_type": "execute_result"
    }
   ],
   "source": [
    "from lib.datasets import load_datapath\n",
    "\n",
    "train_datapath = load_datapath(root_path=audio_base_path, filter_fn=lambda x: x['accent'] == 'German')\n",
    "test_datapath = load_datapath(root_path=audio_base_path, filter_fn=lambda x: x['accent'] != 'German')\n",
    "len(train_datapath), len(test_datapath)"
   ]
  },
  {
   "cell_type": "code",
   "execution_count": 8,
   "metadata": {},
   "outputs": [
    {
     "data": {
      "text/plain": [
       "((tensor([[0.0003, 0.0003, 0.0004,  ..., 0.0005, 0.0005, 0.0004]]), 48000),\n",
       " 0.0)"
      ]
     },
     "execution_count": 8,
     "metadata": {},
     "output_type": "execute_result"
    }
   ],
   "source": [
    "from lib.datasets import AudioMINST\n",
    "\n",
    "train_minst = AudioMINST(data_paths=train_datapath)\n",
    "train_minst[0]"
   ]
  }
 ],
 "metadata": {
  "kernelspec": {
   "display_name": "my-audio",
   "language": "python",
   "name": "python3"
  },
  "language_info": {
   "codemirror_mode": {
    "name": "ipython",
    "version": 3
   },
   "file_extension": ".py",
   "mimetype": "text/x-python",
   "name": "python",
   "nbconvert_exporter": "python",
   "pygments_lexer": "ipython3",
   "version": "3.9.19"
  }
 },
 "nbformat": 4,
 "nbformat_minor": 2
}
